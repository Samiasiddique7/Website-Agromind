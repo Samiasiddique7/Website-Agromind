{
 "cells": [
  {
   "cell_type": "markdown",
   "metadata": {
    "button": false,
    "new_sheet": false,
    "run_control": {
     "read_only": false
    }
   },
   "source": [
    "## Importing Libraries"
   ]
  },
  {
   "cell_type": "code",
   "execution_count": 23,
   "metadata": {
    "button": false,
    "new_sheet": false,
    "run_control": {
     "read_only": false
    }
   },
   "outputs": [],
   "source": [
    "import pandas as pd\n",
    "import numpy as np\n",
    "import matplotlib.pyplot as plt\n",
    "import pylab as pl\n",
    "import seaborn as sns \n",
    "%matplotlib inline"
   ]
  },
  {
   "cell_type": "markdown",
   "metadata": {
    "button": false,
    "new_sheet": false,
    "run_control": {
     "read_only": false
    }
   },
   "source": [
    "\n",
    "<h2 id=\"understanding_data\">Understanding the Data</h2>\n",
    "\n",
    "### `FuelConsumption.csv`:\n",
    "We have downloaded a fuel consumption dataset, **`FuelConsumption.csv`**, which contains model-specific fuel consumption ratings and estimated carbon dioxide emissions for new light-duty vehicles for retail sale in Canada. [Dataset source](http://open.canada.ca/data/en/dataset/98f1a129-f628-4ce4-b24d-6f16bf24dd64)\n",
    "\n",
    "- **MODELYEAR** e.g. 2022\n",
    "- **MAKE** e.g. Acura\n",
    "- **MODEL** e.g. ILX\n",
    "- **VEHICLE CLASS** e.g. COMPACT\n",
    "- **ENGINE SIZE** e.g. 2.4\n",
    "- **CYLINDERS** e.g 4\n",
    "- **TRANSMISSION** e.g. AM8\n",
    "- **FUEL TYPE** e.g. X\n",
    "- **FUEL CONSUMPTION in CITY(L/100 km)** e.g. 9.9\n",
    "- **FUEL CONSUMPTION in HWY (L/100 km)** e.g. 7\n",
    "- **FUEL CONSUMPTION COMB (L/100 km)** e.g. 8.6\n",
    "- **FUEL CONSUMPTION COMB (mpg)** e.g. 33\n",
    "- **CO2 EMISSIONS (g/km)** e.g. 200   --> low --> 0\n",
    "- **CO2 RATING** e.g. 6\n",
    "- **SMOG RATING** e.g. 3\n"
   ]
  },
  {
   "cell_type": "markdown",
   "metadata": {
    "button": false,
    "new_sheet": false,
    "run_control": {
     "read_only": false
    }
   },
   "source": [
    "<h2 id=\"reading_data\">Reading the data</h2>"
   ]
  },
  {
   "cell_type": "code",
   "execution_count": 24,
   "metadata": {
    "button": false,
    "new_sheet": false,
    "run_control": {
     "read_only": false
    }
   },
   "outputs": [
    {
     "data": {
      "text/html": [
       "<div>\n",
       "<style scoped>\n",
       "    .dataframe tbody tr th:only-of-type {\n",
       "        vertical-align: middle;\n",
       "    }\n",
       "\n",
       "    .dataframe tbody tr th {\n",
       "        vertical-align: top;\n",
       "    }\n",
       "\n",
       "    .dataframe thead th {\n",
       "        text-align: right;\n",
       "    }\n",
       "</style>\n",
       "<table border=\"1\" class=\"dataframe\">\n",
       "  <thead>\n",
       "    <tr style=\"text-align: right;\">\n",
       "      <th></th>\n",
       "      <th>MODEL_YEAR</th>\n",
       "      <th>MAKE</th>\n",
       "      <th>MODEL</th>\n",
       "      <th>VEHICLE_CLASS</th>\n",
       "      <th>ENGINE_SIZE</th>\n",
       "      <th>CYLINDERS</th>\n",
       "      <th>TRANSMISSION</th>\n",
       "      <th>FUEL_TYPE</th>\n",
       "      <th>FUELCONSUMPTION_CITY</th>\n",
       "      <th>FUELCONSUMPTION_HWY</th>\n",
       "      <th>FUELCONSUMPTION_COMB</th>\n",
       "      <th>FUELCONSUMPTION_COMB_MPG</th>\n",
       "      <th>CO2_EMISSIONS</th>\n",
       "      <th>CO2_RATING</th>\n",
       "      <th>SMOG_RATING</th>\n",
       "    </tr>\n",
       "  </thead>\n",
       "  <tbody>\n",
       "    <tr>\n",
       "      <th>0</th>\n",
       "      <td>2022</td>\n",
       "      <td>Acura</td>\n",
       "      <td>ILX</td>\n",
       "      <td>Compact</td>\n",
       "      <td>2.4</td>\n",
       "      <td>4</td>\n",
       "      <td>AM8</td>\n",
       "      <td>Z</td>\n",
       "      <td>9.9</td>\n",
       "      <td>7.0</td>\n",
       "      <td>8.6</td>\n",
       "      <td>33</td>\n",
       "      <td>200</td>\n",
       "      <td>6</td>\n",
       "      <td>3</td>\n",
       "    </tr>\n",
       "    <tr>\n",
       "      <th>1</th>\n",
       "      <td>2022</td>\n",
       "      <td>Acura</td>\n",
       "      <td>MDX SH-AWD</td>\n",
       "      <td>SUV: Small</td>\n",
       "      <td>3.5</td>\n",
       "      <td>6</td>\n",
       "      <td>AS10</td>\n",
       "      <td>Z</td>\n",
       "      <td>12.6</td>\n",
       "      <td>9.4</td>\n",
       "      <td>11.2</td>\n",
       "      <td>25</td>\n",
       "      <td>263</td>\n",
       "      <td>4</td>\n",
       "      <td>5</td>\n",
       "    </tr>\n",
       "    <tr>\n",
       "      <th>2</th>\n",
       "      <td>2022</td>\n",
       "      <td>Acura</td>\n",
       "      <td>MDX Type S</td>\n",
       "      <td>SUV: Standard</td>\n",
       "      <td>3.0</td>\n",
       "      <td>6</td>\n",
       "      <td>AS10</td>\n",
       "      <td>Z</td>\n",
       "      <td>13.8</td>\n",
       "      <td>11.2</td>\n",
       "      <td>12.4</td>\n",
       "      <td>23</td>\n",
       "      <td>291</td>\n",
       "      <td>4</td>\n",
       "      <td>5</td>\n",
       "    </tr>\n",
       "    <tr>\n",
       "      <th>3</th>\n",
       "      <td>2022</td>\n",
       "      <td>Acura</td>\n",
       "      <td>NSX</td>\n",
       "      <td>Two-seater</td>\n",
       "      <td>3.5</td>\n",
       "      <td>6</td>\n",
       "      <td>AM9</td>\n",
       "      <td>Z</td>\n",
       "      <td>11.1</td>\n",
       "      <td>10.8</td>\n",
       "      <td>11.0</td>\n",
       "      <td>26</td>\n",
       "      <td>256</td>\n",
       "      <td>5</td>\n",
       "      <td>3</td>\n",
       "    </tr>\n",
       "    <tr>\n",
       "      <th>4</th>\n",
       "      <td>2022</td>\n",
       "      <td>Acura</td>\n",
       "      <td>RDX SH-AWD</td>\n",
       "      <td>SUV: Small</td>\n",
       "      <td>2.0</td>\n",
       "      <td>4</td>\n",
       "      <td>AS10</td>\n",
       "      <td>Z</td>\n",
       "      <td>11.0</td>\n",
       "      <td>8.6</td>\n",
       "      <td>9.9</td>\n",
       "      <td>29</td>\n",
       "      <td>232</td>\n",
       "      <td>5</td>\n",
       "      <td>6</td>\n",
       "    </tr>\n",
       "  </tbody>\n",
       "</table>\n",
       "</div>"
      ],
      "text/plain": [
       "   MODEL_YEAR   MAKE       MODEL  VEHICLE_CLASS  ENGINE_SIZE  CYLINDERS  \\\n",
       "0        2022  Acura         ILX        Compact          2.4          4   \n",
       "1        2022  Acura  MDX SH-AWD     SUV: Small          3.5          6   \n",
       "2        2022  Acura  MDX Type S  SUV: Standard          3.0          6   \n",
       "3        2022  Acura         NSX     Two-seater          3.5          6   \n",
       "4        2022  Acura  RDX SH-AWD     SUV: Small          2.0          4   \n",
       "\n",
       "  TRANSMISSION FUEL_TYPE  FUELCONSUMPTION_CITY  FUELCONSUMPTION_HWY  \\\n",
       "0          AM8         Z                   9.9                  7.0   \n",
       "1         AS10         Z                  12.6                  9.4   \n",
       "2         AS10         Z                  13.8                 11.2   \n",
       "3          AM9         Z                  11.1                 10.8   \n",
       "4         AS10         Z                  11.0                  8.6   \n",
       "\n",
       "   FUELCONSUMPTION_COMB  FUELCONSUMPTION_COMB_MPG  CO2_EMISSIONS  CO2_RATING  \\\n",
       "0                   8.6                        33            200           6   \n",
       "1                  11.2                        25            263           4   \n",
       "2                  12.4                        23            291           4   \n",
       "3                  11.0                        26            256           5   \n",
       "4                   9.9                        29            232           5   \n",
       "\n",
       "   SMOG_RATING  \n",
       "0            3  \n",
       "1            5  \n",
       "2            5  \n",
       "3            3  \n",
       "4            6  "
      ]
     },
     "execution_count": 24,
     "metadata": {},
     "output_type": "execute_result"
    }
   ],
   "source": [
    "df = pd.read_csv('MY2022_Fuel_ConsumptionCo2.csv')\n",
    "\n",
    "# take a look at the dataset\n",
    "df.head()"
   ]
  },
  {
   "cell_type": "code",
   "execution_count": 25,
   "metadata": {},
   "outputs": [
    {
     "data": {
      "text/html": [
       "<div>\n",
       "<style scoped>\n",
       "    .dataframe tbody tr th:only-of-type {\n",
       "        vertical-align: middle;\n",
       "    }\n",
       "\n",
       "    .dataframe tbody tr th {\n",
       "        vertical-align: top;\n",
       "    }\n",
       "\n",
       "    .dataframe thead th {\n",
       "        text-align: right;\n",
       "    }\n",
       "</style>\n",
       "<table border=\"1\" class=\"dataframe\">\n",
       "  <thead>\n",
       "    <tr style=\"text-align: right;\">\n",
       "      <th></th>\n",
       "      <th>MODEL_YEAR</th>\n",
       "      <th>ENGINE_SIZE</th>\n",
       "      <th>CYLINDERS</th>\n",
       "      <th>FUELCONSUMPTION_CITY</th>\n",
       "      <th>FUELCONSUMPTION_HWY</th>\n",
       "      <th>FUELCONSUMPTION_COMB</th>\n",
       "      <th>FUELCONSUMPTION_COMB_MPG</th>\n",
       "      <th>CO2_EMISSIONS</th>\n",
       "      <th>CO2_RATING</th>\n",
       "      <th>SMOG_RATING</th>\n",
       "    </tr>\n",
       "  </thead>\n",
       "  <tbody>\n",
       "    <tr>\n",
       "      <th>count</th>\n",
       "      <td>976.0</td>\n",
       "      <td>976.000000</td>\n",
       "      <td>976.000000</td>\n",
       "      <td>976.000000</td>\n",
       "      <td>976.000000</td>\n",
       "      <td>976.000000</td>\n",
       "      <td>976.000000</td>\n",
       "      <td>976.000000</td>\n",
       "      <td>976.000000</td>\n",
       "      <td>976.000000</td>\n",
       "    </tr>\n",
       "    <tr>\n",
       "      <th>mean</th>\n",
       "      <td>2022.0</td>\n",
       "      <td>3.201742</td>\n",
       "      <td>5.691598</td>\n",
       "      <td>12.561373</td>\n",
       "      <td>9.413217</td>\n",
       "      <td>11.144672</td>\n",
       "      <td>27.112705</td>\n",
       "      <td>260.439549</td>\n",
       "      <td>4.512295</td>\n",
       "      <td>4.965164</td>\n",
       "    </tr>\n",
       "    <tr>\n",
       "      <th>std</th>\n",
       "      <td>0.0</td>\n",
       "      <td>1.364918</td>\n",
       "      <td>1.935411</td>\n",
       "      <td>3.449886</td>\n",
       "      <td>2.305756</td>\n",
       "      <td>2.882519</td>\n",
       "      <td>7.639681</td>\n",
       "      <td>64.694076</td>\n",
       "      <td>1.473824</td>\n",
       "      <td>1.676631</td>\n",
       "    </tr>\n",
       "    <tr>\n",
       "      <th>min</th>\n",
       "      <td>2022.0</td>\n",
       "      <td>1.200000</td>\n",
       "      <td>3.000000</td>\n",
       "      <td>4.000000</td>\n",
       "      <td>3.900000</td>\n",
       "      <td>4.000000</td>\n",
       "      <td>11.000000</td>\n",
       "      <td>94.000000</td>\n",
       "      <td>1.000000</td>\n",
       "      <td>1.000000</td>\n",
       "    </tr>\n",
       "    <tr>\n",
       "      <th>25%</th>\n",
       "      <td>2022.0</td>\n",
       "      <td>2.000000</td>\n",
       "      <td>4.000000</td>\n",
       "      <td>10.300000</td>\n",
       "      <td>7.700000</td>\n",
       "      <td>9.100000</td>\n",
       "      <td>22.000000</td>\n",
       "      <td>214.000000</td>\n",
       "      <td>3.000000</td>\n",
       "      <td>3.000000</td>\n",
       "    </tr>\n",
       "    <tr>\n",
       "      <th>50%</th>\n",
       "      <td>2022.0</td>\n",
       "      <td>3.000000</td>\n",
       "      <td>6.000000</td>\n",
       "      <td>12.300000</td>\n",
       "      <td>9.200000</td>\n",
       "      <td>10.900000</td>\n",
       "      <td>26.000000</td>\n",
       "      <td>258.000000</td>\n",
       "      <td>4.000000</td>\n",
       "      <td>5.000000</td>\n",
       "    </tr>\n",
       "    <tr>\n",
       "      <th>75%</th>\n",
       "      <td>2022.0</td>\n",
       "      <td>4.000000</td>\n",
       "      <td>6.000000</td>\n",
       "      <td>14.700000</td>\n",
       "      <td>10.700000</td>\n",
       "      <td>13.000000</td>\n",
       "      <td>31.000000</td>\n",
       "      <td>302.250000</td>\n",
       "      <td>5.000000</td>\n",
       "      <td>6.000000</td>\n",
       "    </tr>\n",
       "    <tr>\n",
       "      <th>max</th>\n",
       "      <td>2022.0</td>\n",
       "      <td>8.000000</td>\n",
       "      <td>16.000000</td>\n",
       "      <td>30.300000</td>\n",
       "      <td>20.900000</td>\n",
       "      <td>26.100000</td>\n",
       "      <td>71.000000</td>\n",
       "      <td>608.000000</td>\n",
       "      <td>10.000000</td>\n",
       "      <td>7.000000</td>\n",
       "    </tr>\n",
       "  </tbody>\n",
       "</table>\n",
       "</div>"
      ],
      "text/plain": [
       "       MODEL_YEAR  ENGINE_SIZE   CYLINDERS  FUELCONSUMPTION_CITY  \\\n",
       "count       976.0   976.000000  976.000000            976.000000   \n",
       "mean       2022.0     3.201742    5.691598             12.561373   \n",
       "std           0.0     1.364918    1.935411              3.449886   \n",
       "min        2022.0     1.200000    3.000000              4.000000   \n",
       "25%        2022.0     2.000000    4.000000             10.300000   \n",
       "50%        2022.0     3.000000    6.000000             12.300000   \n",
       "75%        2022.0     4.000000    6.000000             14.700000   \n",
       "max        2022.0     8.000000   16.000000             30.300000   \n",
       "\n",
       "       FUELCONSUMPTION_HWY  FUELCONSUMPTION_COMB  FUELCONSUMPTION_COMB_MPG  \\\n",
       "count           976.000000            976.000000                976.000000   \n",
       "mean              9.413217             11.144672                 27.112705   \n",
       "std               2.305756              2.882519                  7.639681   \n",
       "min               3.900000              4.000000                 11.000000   \n",
       "25%               7.700000              9.100000                 22.000000   \n",
       "50%               9.200000             10.900000                 26.000000   \n",
       "75%              10.700000             13.000000                 31.000000   \n",
       "max              20.900000             26.100000                 71.000000   \n",
       "\n",
       "       CO2_EMISSIONS  CO2_RATING  SMOG_RATING  \n",
       "count     976.000000  976.000000   976.000000  \n",
       "mean      260.439549    4.512295     4.965164  \n",
       "std        64.694076    1.473824     1.676631  \n",
       "min        94.000000    1.000000     1.000000  \n",
       "25%       214.000000    3.000000     3.000000  \n",
       "50%       258.000000    4.000000     5.000000  \n",
       "75%       302.250000    5.000000     6.000000  \n",
       "max       608.000000   10.000000     7.000000  "
      ]
     },
     "execution_count": 25,
     "metadata": {},
     "output_type": "execute_result"
    }
   ],
   "source": [
    "# summarize the data\n",
    "df.describe()"
   ]
  },
  {
   "cell_type": "markdown",
   "metadata": {},
   "source": [
    "Lets select some features that we want to use for regression."
   ]
  },
  {
   "cell_type": "code",
   "execution_count": 26,
   "metadata": {
    "button": false,
    "new_sheet": false,
    "run_control": {
     "read_only": false
    },
    "scrolled": true
   },
   "outputs": [
    {
     "data": {
      "text/html": [
       "<div>\n",
       "<style scoped>\n",
       "    .dataframe tbody tr th:only-of-type {\n",
       "        vertical-align: middle;\n",
       "    }\n",
       "\n",
       "    .dataframe tbody tr th {\n",
       "        vertical-align: top;\n",
       "    }\n",
       "\n",
       "    .dataframe thead th {\n",
       "        text-align: right;\n",
       "    }\n",
       "</style>\n",
       "<table border=\"1\" class=\"dataframe\">\n",
       "  <thead>\n",
       "    <tr style=\"text-align: right;\">\n",
       "      <th></th>\n",
       "      <th>ENGINE_SIZE</th>\n",
       "      <th>CYLINDERS</th>\n",
       "      <th>FUELCONSUMPTION_CITY</th>\n",
       "      <th>FUELCONSUMPTION_HWY</th>\n",
       "      <th>FUELCONSUMPTION_COMB</th>\n",
       "      <th>CO2_EMISSIONS</th>\n",
       "    </tr>\n",
       "  </thead>\n",
       "  <tbody>\n",
       "    <tr>\n",
       "      <th>0</th>\n",
       "      <td>2.4</td>\n",
       "      <td>4</td>\n",
       "      <td>9.9</td>\n",
       "      <td>7.0</td>\n",
       "      <td>8.6</td>\n",
       "      <td>200</td>\n",
       "    </tr>\n",
       "    <tr>\n",
       "      <th>1</th>\n",
       "      <td>3.5</td>\n",
       "      <td>6</td>\n",
       "      <td>12.6</td>\n",
       "      <td>9.4</td>\n",
       "      <td>11.2</td>\n",
       "      <td>263</td>\n",
       "    </tr>\n",
       "    <tr>\n",
       "      <th>2</th>\n",
       "      <td>3.0</td>\n",
       "      <td>6</td>\n",
       "      <td>13.8</td>\n",
       "      <td>11.2</td>\n",
       "      <td>12.4</td>\n",
       "      <td>291</td>\n",
       "    </tr>\n",
       "    <tr>\n",
       "      <th>3</th>\n",
       "      <td>3.5</td>\n",
       "      <td>6</td>\n",
       "      <td>11.1</td>\n",
       "      <td>10.8</td>\n",
       "      <td>11.0</td>\n",
       "      <td>256</td>\n",
       "    </tr>\n",
       "    <tr>\n",
       "      <th>4</th>\n",
       "      <td>2.0</td>\n",
       "      <td>4</td>\n",
       "      <td>11.0</td>\n",
       "      <td>8.6</td>\n",
       "      <td>9.9</td>\n",
       "      <td>232</td>\n",
       "    </tr>\n",
       "    <tr>\n",
       "      <th>5</th>\n",
       "      <td>2.0</td>\n",
       "      <td>4</td>\n",
       "      <td>11.3</td>\n",
       "      <td>9.1</td>\n",
       "      <td>10.3</td>\n",
       "      <td>242</td>\n",
       "    </tr>\n",
       "    <tr>\n",
       "      <th>6</th>\n",
       "      <td>2.0</td>\n",
       "      <td>4</td>\n",
       "      <td>11.2</td>\n",
       "      <td>8.0</td>\n",
       "      <td>9.8</td>\n",
       "      <td>230</td>\n",
       "    </tr>\n",
       "    <tr>\n",
       "      <th>7</th>\n",
       "      <td>2.0</td>\n",
       "      <td>4</td>\n",
       "      <td>11.3</td>\n",
       "      <td>8.1</td>\n",
       "      <td>9.8</td>\n",
       "      <td>231</td>\n",
       "    </tr>\n",
       "    <tr>\n",
       "      <th>8</th>\n",
       "      <td>3.0</td>\n",
       "      <td>6</td>\n",
       "      <td>12.3</td>\n",
       "      <td>9.4</td>\n",
       "      <td>11.0</td>\n",
       "      <td>256</td>\n",
       "    </tr>\n",
       "  </tbody>\n",
       "</table>\n",
       "</div>"
      ],
      "text/plain": [
       "   ENGINE_SIZE  CYLINDERS  FUELCONSUMPTION_CITY  FUELCONSUMPTION_HWY  \\\n",
       "0          2.4          4                   9.9                  7.0   \n",
       "1          3.5          6                  12.6                  9.4   \n",
       "2          3.0          6                  13.8                 11.2   \n",
       "3          3.5          6                  11.1                 10.8   \n",
       "4          2.0          4                  11.0                  8.6   \n",
       "5          2.0          4                  11.3                  9.1   \n",
       "6          2.0          4                  11.2                  8.0   \n",
       "7          2.0          4                  11.3                  8.1   \n",
       "8          3.0          6                  12.3                  9.4   \n",
       "\n",
       "   FUELCONSUMPTION_COMB  CO2_EMISSIONS  \n",
       "0                   8.6            200  \n",
       "1                  11.2            263  \n",
       "2                  12.4            291  \n",
       "3                  11.0            256  \n",
       "4                   9.9            232  \n",
       "5                  10.3            242  \n",
       "6                   9.8            230  \n",
       "7                   9.8            231  \n",
       "8                  11.0            256  "
      ]
     },
     "execution_count": 26,
     "metadata": {},
     "output_type": "execute_result"
    }
   ],
   "source": [
    "cdf = df[['ENGINE_SIZE','CYLINDERS','FUELCONSUMPTION_CITY','FUELCONSUMPTION_HWY','FUELCONSUMPTION_COMB','CO2_EMISSIONS']]\n",
    "cdf.head(9)"
   ]
  },
  {
   "cell_type": "markdown",
   "metadata": {},
   "source": [
    "### Scatterplot Matrix:\n",
    "This matrix allows you to visualize relationships between pairs of variables and can give you a \n",
    "quick overview of potential correlations"
   ]
  },
  {
   "cell_type": "code",
   "execution_count": 27,
   "metadata": {},
   "outputs": [],
   "source": [
    "# Assuming df is your dataframe with the specified variables\n",
    "#sns.pairplot(df[['ENGINE_SIZE', 'CYLINDERS', 'FUELCONSUMPTION_CITY', 'CO2_EMISSIONS']])\n",
    "#plt.show()"
   ]
  },
  {
   "cell_type": "markdown",
   "metadata": {},
   "source": [
    "### Correlation Heatmap\n",
    "Visualizing the correlation matrix can help you understand the linear relationships between variables"
   ]
  },
  {
   "cell_type": "code",
   "execution_count": 28,
   "metadata": {},
   "outputs": [
    {
     "data": {
      "image/png": "[encoded data removed]",
      "text/plain": [
       "<Figure size 640x480 with 2 Axes>"
      ]
     },
     "metadata": {},
     "output_type": "display_data"
    }
   ],
   "source": [
    "corr_matrix = df[['ENGINE_SIZE', 'CYLINDERS', 'FUELCONSUMPTION_CITY', 'CO2_EMISSIONS']].corr()\n",
    "sns.heatmap(corr_matrix, annot=True, cmap='coolwarm', fmt=\".2f\")\n",
    "plt.title('Correlation Heatmap')\n",
    "plt.show()"
   ]
  },
  {
   "cell_type": "markdown",
   "metadata": {},
   "source": [
    "### Histogram\n",
    "we can plot each of these separately features:"
   ]
  },
  {
   "cell_type": "code",
   "execution_count": 29,
   "metadata": {},
   "outputs": [
    {
     "data": {
      "image/png": "[encoded data removed]",
      "text/plain": [
       "<Figure size 1200x800 with 6 Axes>"
      ]
     },
     "metadata": {},
     "output_type": "display_data"
    }
   ],
   "source": [
    "import matplotlib.pyplot as plt\n",
    "\n",
    "# Select the columns for the histogram\n",
    "viz = cdf[['CYLINDERS', 'ENGINE_SIZE', 'CO2_EMISSIONS', 'FUELCONSUMPTION_COMB', 'FUELCONSUMPTION_CITY', 'FUELCONSUMPTION_HWY']]\n",
    "\n",
    "# Create subplots with a specified layout\n",
    "fig, axes = plt.subplots(nrows=2, ncols=3, figsize=(12, 8),)\n",
    "\n",
    "# Flatten the axes for easier indexing\n",
    "axes = axes.flatten()\n",
    "\n",
    "# Plot each histogram on a separate subplot\n",
    "for i, col in enumerate(viz.columns):\n",
    "    viz[col].plot(kind='hist', ax=axes[i], title=col)\n",
    "    axes[i].set_xlabel(col)\n",
    "    axes[i].set_ylabel('Frequency')\n",
    "\n",
    "    \n",
    "#plt.grid(True)\n",
    "# Adjust layout\n",
    "\n",
    "plt.tight_layout()\n",
    "\n",
    "# Show the plot\n",
    "plt.show()\n"
   ]
  },
  {
   "cell_type": "markdown",
   "metadata": {},
   "source": [
    "Lets plot Emission values with respect to Engine size:"
   ]
  },
  {
   "cell_type": "code",
   "execution_count": 30,
   "metadata": {
    "button": false,
    "new_sheet": false,
    "run_control": {
     "read_only": false
    },
    "scrolled": true
   },
   "outputs": [],
   "source": [
    "# plt.scatter(cdf.ENGINE_SIZE, cdf.CO2_EMISSIONS,  color='blue')\n",
    "# plt.xlabel(\"ENGINE SIZE\")\n",
    "# plt.ylabel(\"CO2 EMISSIONS\")\n",
    "# plt.show()"
   ]
  },
  {
   "cell_type": "markdown",
   "metadata": {
    "button": false,
    "new_sheet": false,
    "run_control": {
     "read_only": false
    }
   },
   "source": [
    "### Creating train and test dataset\n",
    "Train/Test Split involves splitting the dataset into training and testing sets respectively, which are mutually exclusive. After which, you train with the training set and test with the testing set. \n",
    "This will provide a more accurate evaluation on out-of-sample accuracy because the testing dataset is not part of the dataset that have been used to train the data. It is more realistic for real world problems.\n",
    "\n",
    "This means that we know the outcome of each data point in this dataset, making it great to test with! And since this data has not been used to train the model, the model has no knowledge of the outcome of these data points. So, in essence, it’s truly an out-of-sample testing.\n",
    "\n"
   ]
  },
  {
   "cell_type": "code",
   "execution_count": 31,
   "metadata": {
    "button": false,
    "new_sheet": false,
    "run_control": {
     "read_only": false
    }
   },
   "outputs": [],
   "source": [
    "msk = np.random.rand(len(df)) < 0.8\n",
    "train = cdf[msk]\n",
    "test = cdf[~msk]\n",
    "#train and test are Dfs"
   ]
  },
  {
   "cell_type": "markdown",
   "metadata": {
    "button": false,
    "new_sheet": false,
    "run_control": {
     "read_only": false
    }
   },
   "source": [
    "### Train data distribution"
   ]
  },
  {
   "cell_type": "code",
   "execution_count": 32,
   "metadata": {
    "button": false,
    "new_sheet": false,
    "run_control": {
     "read_only": false
    }
   },
   "outputs": [
    {
     "data": {
      "image/png": "[encoded data removed]",
      "text/plain": [
       "<Figure size 640x480 with 1 Axes>"
      ]
     },
     "metadata": {},
     "output_type": "display_data"
    }
   ],
   "source": [
    "plt.scatter(train.ENGINE_SIZE, train.CO2_EMISSIONS,  color='green')\n",
    "plt.xlabel(\"ENGINE SIZE\")\n",
    "plt.ylabel(\"CO2 EMISSIONS\")\n",
    "plt.show()"
   ]
  },
  {
   "cell_type": "markdown",
   "metadata": {
    "button": false,
    "new_sheet": false,
    "run_control": {
     "read_only": false
    }
   },
   "source": [
    "<h2 id=\"support_vector_regression_model\">Support Vector Regression Model</h2>\n"
   ]
  },
  {
   "cell_type": "markdown",
   "metadata": {},
   "source": [
    "SVR focuses on capturing the essential patterns in the data by identifying a hyperplane that maintains a balance between fitting the training points and allowing a defined level of deviation, known as the epsilon-insensitive tube."
   ]
  },
  {
   "cell_type": "code",
   "execution_count": 33,
   "metadata": {
    "button": false,
    "new_sheet": false,
    "run_control": {
     "read_only": false
    }
   },
   "outputs": [
    {
     "name": "stdout",
     "output_type": "stream",
     "text": [
      "[[ 2.4  4.   9.9  7.   8.6]\n",
      " [ 3.5  6.  12.6  9.4 11.2]\n",
      " [ 3.   6.  13.8 11.2 12.4]\n",
      " ...\n",
      " [ 2.   4.  11.   8.7  9.9]\n",
      " [ 2.   4.  11.5  8.4 10.1]\n",
      " [ 2.   4.  12.4  8.9 10.8]]\n"
     ]
    },
    {
     "name": "stderr",
     "output_type": "stream",
     "text": [
      "C:\\Users\\wAHAB\\anaconda3\\lib\\site-packages\\sklearn\\utils\\validation.py:993: DataConversionWarning: A column-vector y was passed when a 1d array was expected. Please change the shape of y to (n_samples, ), for example using ravel().\n",
      "  y = column_or_1d(y, warn=True)\n"
     ]
    },
    {
     "name": "stdout",
     "output_type": "stream",
     "text": [
      "Intercept:  [0.7299204]\n",
      "Coefficients:  [[ 0.56708209 -0.25015364  7.7726665   6.775266    8.83774925]]\n"
     ]
    }
   ],
   "source": [
    "from sklearn.svm import SVR\n",
    "import numpy as np\n",
    "\n",
    "# Initialize SVR model\n",
    "svr_model = SVR(kernel='linear')  # You can choose different kernels (linear, rbf, etc.)\n",
    "\n",
    "train_x = np.asanyarray(train[['ENGINE_SIZE','CYLINDERS','FUELCONSUMPTION_CITY','FUELCONSUMPTION_HWY','FUELCONSUMPTION_COMB']])\n",
    "train_y = np.asanyarray(train[['CO2_EMISSIONS']])\n",
    "print(train_x)\n",
    "\n",
    "# Train the model\n",
    "svr_model.fit(train_x, train_y)\n",
    "\n",
    "# The coefficients\n",
    "print('Intercept: ', svr_model.intercept_)\n",
    "print('Coefficients: ', svr_model.coef_)\n",
    "\n",
    "\n"
   ]
  },
  {
   "cell_type": "markdown",
   "metadata": {},
   "source": [
    "As mentioned before, __Coefficient__ and __Intercept__ , are the parameters of the fit line. \n",
    "Given that it is a multiple linear regression, with 3 parameters, and knowing that the parameters are the intercept and coefficients of hyperplane, sklearn can estimate them from our data. Scikit-learn uses plain Ordinary Least Squares method to solve this problem.\n"
   ]
  },
  {
   "cell_type": "markdown",
   "metadata": {},
   "source": [
    "<h2 id=\"prediction\">Prediction</h2>"
   ]
  },
  {
   "cell_type": "code",
   "execution_count": 34,
   "metadata": {
    "button": false,
    "new_sheet": false,
    "run_control": {
     "read_only": false
    },
    "scrolled": true
   },
   "outputs": [
    {
     "name": "stdout",
     "output_type": "stream",
     "text": [
      "514\n",
      "Residual sum of squares (MSE): 11416.06\n",
      "Normalized MSE: 22.210234972963928\n",
      "R2-score: 0.97\n",
      "Mean absolute error: 81.46\n",
      "Explained Variance score: 0.97\n"
     ]
    },
    {
     "name": "stderr",
     "output_type": "stream",
     "text": [
      "C:\\Users\\wAHAB\\anaconda3\\lib\\site-packages\\sklearn\\base.py:443: UserWarning: X has feature names, but SVR was fitted without feature names\n",
      "  warnings.warn(\n"
     ]
    }
   ],
   "source": [
    "from sklearn.metrics import r2_score\n",
    "\n",
    "pred_y= svr_model.predict(test[['ENGINE_SIZE','CYLINDERS','FUELCONSUMPTION_CITY','FUELCONSUMPTION_HWY','FUELCONSUMPTION_COMB']])\n",
    "test_x = np.asanyarray(test[['ENGINE_SIZE','CYLINDERS','FUELCONSUMPTION_CITY','FUELCONSUMPTION_HWY','FUELCONSUMPTION_COMB']])\n",
    "test_y = np.asanyarray(test[['CO2_EMISSIONS']])\n",
    "\n",
    "mse = np.mean((pred_y - test_y) ** 2)\n",
    "\n",
    "# Calculate the range of CO2 emissions\n",
    "co2_emissions_range = df['CO2_EMISSIONS'].max() - df['CO2_EMISSIONS'].min()\n",
    "print(co2_emissions_range)\n",
    "# Normalize MSE\n",
    "normalized_mse = mse / co2_emissions_range\n",
    "print(\"Residual sum of squares (MSE): %.2f\"% np.mean((pred_y - test_y) ** 2))\n",
    "print(f'Normalized MSE: {normalized_mse}')\n",
    "# Assuming you have already calculated MSE\n",
    "\n",
    "\n",
    "print(\"R2-score: %.2f\" % r2_score(pred_y , test_y) )\n",
    "\n",
    "print(\"Mean absolute error: %.2f\" % np.mean(np.absolute(pred_y - test_y)))\n",
    "\n",
    "\n",
    "# Explained variance score: 1 is perfect prediction\n",
    "print('Explained Variance score: %.2f' % svr_model.score(test_x, test_y))\n"
   ]
  },
  {
   "cell_type": "code",
   "execution_count": 35,
   "metadata": {},
   "outputs": [
    {
     "name": "stdout",
     "output_type": "stream",
     "text": [
      "Accuracy (R-squared): 97.30%\n"
     ]
    }
   ],
   "source": [
    "r2 = r2_score(pred_y, test_y)\n",
    "\n",
    "# Convert R-squared to percentage\n",
    "accuracy_percentage = r2 * 100\n",
    "\n",
    "print('Accuracy (R-squared): {:.2f}%'.format(accuracy_percentage))\n"
   ]
  },
  {
   "cell_type": "code",
   "execution_count": 36,
   "metadata": {},
   "outputs": [
    {
     "name": "stdout",
     "output_type": "stream",
     "text": [
      "514\n"
     ]
    }
   ],
   "source": [
    "co2_emissions_range = df['CO2_EMISSIONS'].max() - df['CO2_EMISSIONS'].min()\n",
    "print(co2_emissions_range)"
   ]
  },
  {
   "cell_type": "code",
   "execution_count": 37,
   "metadata": {},
   "outputs": [],
   "source": [
    "# # Generate a range of values for ENGINE_SIZE, CYLINDERS, and FUELCONSUMPTION_COMB\n",
    "# # This will be used for creating a smoother curve\n",
    "# engine_size_range = np.linspace(min(df['ENGINE_SIZE']), max(df['ENGINE_SIZE']), 100).reshape(-1, 1)\n",
    "# cylinders_range = np.linspace(min(df['CYLINDERS']), max(df['CYLINDERS']), 100).reshape(-1, 1)\n",
    "# fuel_consumption_range = np.linspace(min(df['FUELCONSUMPTION_COMB']), max(df['FUELCONSUMPTION_COMB']), 100).reshape(-1, 1)\n",
    "\n",
    "# # Create a grid of values for prediction\n",
    "# grid_values = np.column_stack((engine_size_range, cylinders_range, fuel_consumption_range))\n",
    "\n",
    "# # Make predictions on the grid\n",
    "# predicted_values = svr_model.predict(grid_values)\n",
    "\n",
    "# # Plot the actual versus predicted values\n",
    "# plt.figure(figsize=(10, 6))\n",
    "\n",
    "# # Scatter plot of actual values\n",
    "# plt.scatter(test_x[:, 0], test_y, color='blue', label='Actual Values')\n",
    "\n",
    "# # Line plot of predicted values\n",
    "# plt.plot(grid_values[:, 0], predicted_values, color='red', linewidth=2, label='SVR Prediction')\n",
    "\n",
    "# plt.title('SVR Results - Actual vs Predicted')\n",
    "# plt.xlabel('ENGINE_SIZE')\n",
    "# plt.ylabel('CO2_EMISSIONS')\n",
    "# plt.legend()\n",
    "# plt.show()\n"
   ]
  },
  {
   "cell_type": "code",
   "execution_count": 16,
   "metadata": {},
   "outputs": [
    {
     "ename": "NameError",
     "evalue": "name 'grid_values' is not defined",
     "output_type": "error",
     "traceback": [
      "\u001b[1;31m---------------------------------------------------------------------------\u001b[0m",
      "\u001b[1;31mNameError\u001b[0m                                 Traceback (most recent call last)",
      "\u001b[1;32m~\\AppData\\Local\\Temp\\ipykernel_11892\\785793746.py\u001b[0m in \u001b[0;36m<module>\u001b[1;34m\u001b[0m\n\u001b[0;32m      5\u001b[0m \u001b[1;33m\u001b[0m\u001b[0m\n\u001b[0;32m      6\u001b[0m \u001b[1;31m# Line plot of predicted values\u001b[0m\u001b[1;33m\u001b[0m\u001b[1;33m\u001b[0m\u001b[0m\n\u001b[1;32m----> 7\u001b[1;33m \u001b[0mplt\u001b[0m\u001b[1;33m.\u001b[0m\u001b[0mplot\u001b[0m\u001b[1;33m(\u001b[0m\u001b[0mgrid_values\u001b[0m\u001b[1;33m[\u001b[0m\u001b[1;33m:\u001b[0m\u001b[1;33m,\u001b[0m \u001b[1;36m1\u001b[0m\u001b[1;33m]\u001b[0m\u001b[1;33m,\u001b[0m \u001b[0mpredicted_values\u001b[0m\u001b[1;33m,\u001b[0m \u001b[0mcolor\u001b[0m\u001b[1;33m=\u001b[0m\u001b[1;34m'red'\u001b[0m\u001b[1;33m,\u001b[0m \u001b[0mlinewidth\u001b[0m\u001b[1;33m=\u001b[0m\u001b[1;36m2\u001b[0m\u001b[1;33m,\u001b[0m \u001b[0mlabel\u001b[0m\u001b[1;33m=\u001b[0m\u001b[1;34m'SVR Prediction'\u001b[0m\u001b[1;33m)\u001b[0m\u001b[1;33m\u001b[0m\u001b[1;33m\u001b[0m\u001b[0m\n\u001b[0m\u001b[0;32m      8\u001b[0m \u001b[1;33m\u001b[0m\u001b[0m\n\u001b[0;32m      9\u001b[0m \u001b[0mplt\u001b[0m\u001b[1;33m.\u001b[0m\u001b[0mtitle\u001b[0m\u001b[1;33m(\u001b[0m\u001b[1;34m'SVR Results - Actual vs Predicted'\u001b[0m\u001b[1;33m)\u001b[0m\u001b[1;33m\u001b[0m\u001b[1;33m\u001b[0m\u001b[0m\n",
      "\u001b[1;31mNameError\u001b[0m: name 'grid_values' is not defined"
     ]
    },
    {
     "data": {
      "image/png": "[encoded data removed]",
      "text/plain": [
       "<Figure size 1000x600 with 1 Axes>"
      ]
     },
     "metadata": {},
     "output_type": "display_data"
    }
   ],
   "source": [
    "# Plot the actual versus predicted values\n",
    "plt.figure(figsize=(10, 6))\n",
    "# Scatter plot of actual values\n",
    "plt.scatter(test_x[:, 1], test_y, color='blue', label='Actual Values')\n",
    "\n",
    "# Line plot of predicted values\n",
    "plt.plot(grid_values[:, 1], predicted_values, color='red', linewidth=2, label='SVR Prediction')\n",
    "\n",
    "plt.title('SVR Results - Actual vs Predicted')\n",
    "plt.xlabel('CYLINDERS')\n",
    "plt.ylabel('CO2_EMISSIONS')\n",
    "plt.legend()\n",
    "plt.show()"
   ]
  },
  {
   "cell_type": "code",
   "execution_count": null,
   "metadata": {},
   "outputs": [],
   "source": [
    "# Plot the actual versus predicted values\n",
    "plt.figure(figsize=(10, 6))\n",
    "# Scatter plot of actual values\n",
    "plt.scatter(test_x[:, 2], test_y, color='blue', label='Actual Values')\n",
    "\n",
    "# Line plot of predicted values\n",
    "plt.plot(grid_values[:, 2], predicted_values, color='red', linewidth=2, label='SVR Prediction')\n",
    "\n",
    "plt.title('SVR Results - Actual vs Predicted')\n",
    "plt.xlabel('FUELCONSUMPTION_COMB')\n",
    "plt.ylabel('CO2_EMISSIONS')\n",
    "plt.legend()\n",
    "plt.show()"
   ]
  },
  {
   "cell_type": "markdown",
   "metadata": {},
   "source": [
    "__Explained Variance regression score:__  \n",
    "If $\\hat{y}$ is the estimated target output, y the corresponding (correct) target output, and Var is Variance, the square of the standard deviation, then the explained variance is estimated as follow:\n",
    "\n",
    "$\\texttt{explainedVariance}(y, \\hat{y}) = 1 - \\frac{Var\\{ y - \\hat{y}\\}}{Var\\{y\\}}$  \n",
    "The best possible score is 1.0, lower values are worse."
   ]
  },
  {
   "cell_type": "markdown",
   "metadata": {},
   "source": [
    "<h2 id=\"2nd Iteration\">2nd Iteration</h2>\n",
    "\n",
    "Trying a multiple linear regression with the same dataset but this time using __FUEL CONSUMPTION in CITY__ instead of FUELCONSUMPTION_COMB to check if it has better accuracy.."
   ]
  },
  {
   "cell_type": "code",
   "execution_count": 18,
   "metadata": {},
   "outputs": [
    {
     "name": "stderr",
     "output_type": "stream",
     "text": [
      "C:\\Users\\wAHAB\\anaconda3\\lib\\site-packages\\sklearn\\utils\\validation.py:993: DataConversionWarning: A column-vector y was passed when a 1d array was expected. Please change the shape of y to (n_samples, ), for example using ravel().\n",
      "  y = column_or_1d(y, warn=True)\n",
      "C:\\Users\\wAHAB\\anaconda3\\lib\\site-packages\\sklearn\\base.py:443: UserWarning: X has feature names, but SVR was fitted without feature names\n",
      "  warnings.warn(\n"
     ]
    },
    {
     "name": "stdout",
     "output_type": "stream",
     "text": [
      "Residual sum of squares (MSE): 7517.20\n",
      "R2-score: 0.92\n",
      "Mean absolute error: 69.06\n",
      "Explained Variance score: 0.91\n"
     ]
    }
   ],
   "source": [
    "x1 = np.asanyarray(train[['ENGINE_SIZE','CYLINDERS','FUELCONSUMPTION_CITY']])\n",
    "y1 = np.asanyarray(train[['CO2_EMISSIONS']])\n",
    "svr_model = SVR(kernel='linear')\n",
    "svr_model.fit (x1, y1)\n",
    "\n",
    "y1_pred= svr_model.predict(test[['ENGINE_SIZE','CYLINDERS','FUELCONSUMPTION_CITY']])\n",
    "x1 = np.asanyarray(test[['ENGINE_SIZE','CYLINDERS','FUELCONSUMPTION_CITY']])\n",
    "y1 = np.asanyarray(test[['CO2_EMISSIONS']])\n",
    "\n",
    "\n",
    "print(\"Residual sum of squares (MSE): %.2f\"% np.mean((y1_pred - y1) ** 2))\n",
    "print(\"R2-score: %.2f\" % r2_score(y1_pred , y1) )\n",
    "\n",
    "print(\"Mean absolute error: %.2f\" % np.mean(np.absolute(y1_pred - y1)))\n",
    "\n",
    "#print(\"R2-score: %.2f\" % r2_score(pred_y , test_y) )\n",
    "\n",
    "# Explained variance score: 1 is perfect prediction\n",
    "print('Explained Variance score: %.2f' % svr_model.score(x1, y1))"
   ]
  },
  {
   "cell_type": "code",
   "execution_count": 19,
   "metadata": {},
   "outputs": [
    {
     "name": "stdout",
     "output_type": "stream",
     "text": [
      "Accuracy (R-squared): 92.31%\n"
     ]
    }
   ],
   "source": [
    "r2 = r2_score(y1_pred, y1)\n",
    "\n",
    "# Convert R-squared to percentage\n",
    "accuracy_percentage = r2 * 100\n",
    "\n",
    "print('Accuracy (R-squared): {:.2f}%'.format(accuracy_percentage))\n"
   ]
  },
  {
   "cell_type": "code",
   "execution_count": 44,
   "metadata": {},
   "outputs": [
    {
     "data": {
      "text/plain": [
       "['svrr_model.pkl']"
      ]
     },
     "execution_count": 44,
     "metadata": {},
     "output_type": "execute_result"
    }
   ],
   "source": [
    "#Saving the model\n",
    "\n",
    "import joblib\n",
    "\n",
    "# Assuming svr_model is your trained SVR model\n",
    "\n",
    "# Save the model to a file\n",
    "joblib.dump(svr_model, 'svrr_model.pkl')\n"
   ]
  },
  {
   "cell_type": "code",
   "execution_count": 40,
   "metadata": {},
   "outputs": [
    {
     "name": "stdout",
     "output_type": "stream",
     "text": [
      "[356.55868741]\n"
     ]
    },
    {
     "name": "stderr",
     "output_type": "stream",
     "text": [
      "C:\\Users\\wAHAB\\anaconda3\\lib\\site-packages\\sklearn\\base.py:443: UserWarning: X has feature names, but SVR was fitted without feature names\n",
      "  warnings.warn(\n"
     ]
    }
   ],
   "source": [
    "# Load the model from the file\n",
    "loaded_model = joblib.load('svrr_model.pkl')\n",
    "\n",
    "# Create a dictionary with the values you want to predict\n",
    "data_to_predict = {\n",
    "    'ENGINE_SIZE': [4],\n",
    "    'CYLINDERS': [6],\n",
    "    'FUELCONSUMPTION_CITY': [17],  # Add a comma here\n",
    "    'FUELCONSUMPTION_HWY': [13.1],\n",
    "    'FUELCONSUMPTION_COMB': [15.2]\n",
    "}\n",
    "\n",
    "# Create a DataFrame from the dictionary\n",
    "data_to_predict_df = pd.DataFrame(data_to_predict)\n",
    "\n",
    "# Predict the target value for the given input features using the loaded model\n",
    "pred_y = loaded_model.predict(data_to_predict_df)\n",
    "\n",
    "# Print the predicted value\n",
    "print(pred_y)\n"
   ]
  },
  {
   "cell_type": "code",
   "execution_count": null,
   "metadata": {},
   "outputs": [],
   "source": []
  }
 ],
 "metadata": {
  "kernelspec": {
   "display_name": "Python 3 (ipykernel)",
   "language": "python",
   "name": "python3"
  },
  "language_info": {
   "codemirror_mode": {
    "name": "ipython",
    "version": 3
   },
   "file_extension": ".py",
   "mimetype": "text/x-python",
   "name": "python",
   "nbconvert_exporter": "python",
   "pygments_lexer": "ipython3",
   "version": "3.9.13"
  },
  "widgets": {
   "state": {},
   "version": "1.1.2"
  }
 },
 "nbformat": 4,
 "nbformat_minor": 2
}
